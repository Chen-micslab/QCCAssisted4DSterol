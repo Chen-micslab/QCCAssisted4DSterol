{
 "cells": [
  {
   "cell_type": "code",
   "execution_count": 1,
   "id": "0016360a-fe81-47d8-a868-00dda8d88684",
   "metadata": {},
   "outputs": [],
   "source": [
    "from Search.resultsConnector import Connector\n",
    "from Search.msdialTxtReader import msdialReader\n",
    "from Search.mgfReader import mgfReader\n",
    "from Search.searchSterol import searchMSDIALAlignExportWithMGF\n",
    "from utils.utils import getfilepath\n",
    "import pandas as pd"
   ]
  },
  {
   "cell_type": "code",
   "execution_count": 2,
   "id": "bfb4d659-dac6-47c8-8eb1-274c6b636760",
   "metadata": {},
   "outputs": [
    {
     "name": "stdout",
     "output_type": "stream",
     "text": [
      "Now read tissue-K-01_GA8_1_35018_5.3.236.mgf\n",
      "Use 7 Process \n",
      "Total time 23.669898748397827\n",
      "Save output in ./Search/kidney/DAExport/tissue-K-01_GA8_1_35018_5.3.236_DAExport.csv\n",
      "Now read tissue-K-02_GB1_1_35019_5.3.236.mgf\n",
      "Use 7 Process \n",
      "Total time 24.284887075424194\n",
      "Save output in ./Search/kidney/DAExport/tissue-K-02_GB1_1_35019_5.3.236_DAExport.csv\n",
      "Now read tissue-K-03_GB2_1_35020_5.3.236.mgf\n",
      "Use 7 Process \n",
      "Total time 23.47310757637024\n",
      "Save output in ./Search/kidney/DAExport/tissue-K-03_GB2_1_35020_5.3.236_DAExport.csv\n",
      "Now read tissue-K-04_GB3_1_35021_5.3.236.mgf\n",
      "Use 7 Process \n",
      "Total time 25.968851327896118\n",
      "Save output in ./Search/kidney/DAExport/tissue-K-04_GB3_1_35021_5.3.236_DAExport.csv\n"
     ]
    }
   ],
   "source": [
    "#--------------------convert mgf to csv ----------------------------------\n",
    "mgfFolder = \"./Search/tissue/kidney\" # input a folder path contain mgf file from DA(Bruker DataAnalysis) convert results\n",
    "(filepathList, filenameList) = getfilepath(mgfFolder, \".mgf\")\n",
    "for filepath, filename in zip(filepathList, filenameList):\n",
    "    print(f'Now read {filename}')\n",
    "    myReader = mgfReader(filepath, saveFileName=\"./Search/tissue/kidney/DAExport\", cpuNum=7, isBruker=True) # Parallel reading mgf files\n",
    "    myReader.start()\n",
    "    del myReader"
   ]
  },
  {
   "cell_type": "code",
   "execution_count": 3,
   "id": "054cc794-a845-4676-acd1-ec649de2b5bb",
   "metadata": {},
   "outputs": [
    {
     "name": "stdout",
     "output_type": "stream",
     "text": [
      "1\n",
      "tissue-K-01_GA8_1_35018_5.3.236_DAExport.csv\n",
      "tissue-K-01_GA8_1_35018.txt\n",
      "Use 7 Process \n",
      "Total time 32.730201721191406\n",
      "Save Output in ./Search/kidney/MAP/tissue-K-01_GA8_1_35018_5.3.236_MAP.csv\n",
      "tissue-K-02_GB1_1_35019_5.3.236_DAExport.csv\n",
      "tissue-K-02_GB1_1_35019.txt\n",
      "Use 7 Process \n",
      "Total time 32.98604464530945\n",
      "Save Output in ./Search/kidney/MAP/tissue-K-02_GB1_1_35019_5.3.236_MAP.csv\n",
      "tissue-K-03_GB2_1_35020_5.3.236_DAExport.csv\n",
      "tissue-K-03_GB2_1_35020.txt\n",
      "Use 7 Process \n",
      "Total time 32.825539112091064\n",
      "Save Output in ./Search/kidney/MAP/tissue-K-03_GB2_1_35020_5.3.236_MAP.csv\n",
      "tissue-K-04_GB3_1_35021_5.3.236_DAExport.csv\n",
      "tissue-K-04_GB3_1_35021.txt\n",
      "Use 7 Process \n",
      "Total time 32.52159309387207\n",
      "Save Output in ./Search/kidney/MAP/tissue-K-04_GB3_1_35021_5.3.236_MAP.csv\n"
     ]
    }
   ],
   "source": [
    "#------------------------------------------------------\n",
    "#MSDIAL txt and mgf CSV with the same name will be matched based on the m/z, RT and CCS\n",
    "mgfReaderOutFolder = \"./Search/tissue/kidney/DAExport\" # input a folder path contain mgf readResult\n",
    "txtFolder = \"./Search/tissue/kidney\" # input a folder path contain MSDIAL peak finding file.\n",
    "(mgfExportFilePathList, mgfExportFileNameList) = getfilepath(mgfReaderOutFolder, '.csv')\n",
    "(txtFilePathList, txtFileNameList) = getfilepath(txtFolder, '.txt')\n",
    "print(1)\n",
    "for mgf, txt, mgfName, txtName in zip(mgfExportFilePathList, txtFilePathList, mgfExportFileNameList, txtFileNameList):\n",
    "    print(mgfName)\n",
    "    print(txtName)\n",
    "    myreader = Connector(txtFilePath=txt, mgfExportFilePath=mgf, cpuNum=7,savepath='./Search/kidney/MAP')\n",
    "    myreader.multiProcessConvert()\n",
    "    myreader.exportTxtWithMap()\n",
    "    del myreader"
   ]
  },
  {
   "cell_type": "code",
   "execution_count": 2,
   "id": "752c314b-ec4c-4660-a197-c0772c90d81f",
   "metadata": {},
   "outputs": [
    {
     "name": "stdout",
     "output_type": "stream",
     "text": [
      "B\n",
      "\n",
      "F\n",
      "\n",
      "C\n",
      "\n",
      "K\n",
      "\n",
      "G\n",
      "\n",
      "H\n",
      "\n",
      "L\n",
      "\n"
     ]
    }
   ],
   "source": [
    "#We need to merge MS-DIAL alignment output files into one.\n",
    "nameDict = {'B': ['brain', 1], 'F': ['feces', 1], 'C': ['cardiac', 2], 'K': ['kidney', 3], 'G': ['gut', 2],\n",
    "                'H': ['hepar', 3], 'L': ['lungs', 2]}\n",
    "for key in nameDict.keys():\n",
    "    print(key)\n",
    "    txtMapFolder = f\"./Search/tissue/{nameDict[key][0]}/MAP\"\n",
    "    mgfExportFolder = f\"./Search/tissue/{nameDict[key][0]}/DAExport\"\n",
    "    alignmentFolder = f'./Search/tissue/{nameDict[key][0]}/alignment'\n",
    "    filePathList, fileNameList = getfilepath(alignmentFolder,'.txt')\n",
    "    areaID = None\n",
    "    peakID = None\n",
    "    for filePath in filePathList:\n",
    "        if 'Area' in filePath:\n",
    "            areaID = pd.read_csv(filePath,sep='\\t')\n",
    "        if 'PeakId' in filePath:\n",
    "            peakID = pd.read_csv(filePath,sep='\\t')\n",
    "    peakID = peakID.iloc[:,[0,1,2,3,4,8,37,38,39,40]]\n",
    "    areaID = areaID.iloc[:,[41,42]]\n",
    "    areaID.rename(columns={'1':'Area_mean_','1.1':'Area_std_'},inplace=True)\n",
    "    temp = pd.concat([peakID,areaID],axis=1)\n",
    "    temp = temp.loc[temp.loc[:,'Average Mz'] <= 900]\n",
    "    rtIndexId = list(temp.loc[temp.loc[:,'Average CCS'] == -1].index)\n",
    "    i = 0\n",
    "    temp[['Area Alignment ID','Area_mean','Area_std']] = None\n",
    "    while i < len(rtIndexId)-1:\n",
    "        temp.loc[rtIndexId[i]:(rtIndexId[i+1]-1)].loc[:, ['Area Alignment ID']] = temp.loc[rtIndexId[i],'Alignment ID']\n",
    "        temp.loc[rtIndexId[i]:(rtIndexId[i+1]-1)].loc[:, ['Area_mean']] = round(temp.loc[rtIndexId[i], 'Area_mean_'],4)\n",
    "        temp.loc[rtIndexId[i]:(rtIndexId[i+1]-1)].loc[:, ['Area_std']] = round(temp.loc[rtIndexId[i], 'Area_std_'],4)\n",
    "        i += 1\n",
    "    temp.loc[rtIndexId[i]:,:].loc[:, ['Area Alignment ID']] = temp.loc[rtIndexId[i], 'Alignment ID']\n",
    "    temp.loc[rtIndexId[i]:,:].loc[:, ['Area_mean']] = temp.loc[rtIndexId[i], 'Area_mean_']\n",
    "    temp.loc[rtIndexId[i]:,:].loc[:, ['Area_std']] = temp.loc[rtIndexId[i], 'Area_std_']\n",
    "    print()\n",
    "    temp.to_csv(f'./Search/tissue/{nameDict[key][0]}/alignment/{key}.txt',index=0,sep='\\t')"
   ]
  },
  {
   "cell_type": "code",
   "execution_count": 5,
   "id": "f18a9c90-f58c-4201-9749-ccbef6577ddd",
   "metadata": {},
   "outputs": [
    {
     "name": "stderr",
     "output_type": "stream",
     "text": [
      "                                                                                                                                                                                                                                                                         \r"
     ]
    },
    {
     "name": "stdout",
     "output_type": "stream",
     "text": [
      "./Search\\B.txt_standard.csv\n"
     ]
    },
    {
     "name": "stderr",
     "output_type": "stream",
     "text": [
      "                                                                                                                                                                                                                                                                         \r"
     ]
    },
    {
     "name": "stdout",
     "output_type": "stream",
     "text": [
      "./Search\\B.txt_predict.csv\n"
     ]
    },
    {
     "name": "stderr",
     "output_type": "stream",
     "text": [
      "                                                                                                                                                                                                                                                                         \r"
     ]
    },
    {
     "name": "stdout",
     "output_type": "stream",
     "text": [
      "./Search\\F.txt_standard.csv\n"
     ]
    },
    {
     "name": "stderr",
     "output_type": "stream",
     "text": [
      "                                                                                                                                                                                                                                                                         \r"
     ]
    },
    {
     "name": "stdout",
     "output_type": "stream",
     "text": [
      "./Search\\F.txt_predict.csv\n"
     ]
    },
    {
     "name": "stderr",
     "output_type": "stream",
     "text": [
      "                                                                                                                                                                                                                                                                         \r"
     ]
    },
    {
     "name": "stdout",
     "output_type": "stream",
     "text": [
      "./Search\\C.txt_standard.csv\n"
     ]
    },
    {
     "name": "stderr",
     "output_type": "stream",
     "text": [
      "                                                                                                                                                                                                                                                                         \r"
     ]
    },
    {
     "name": "stdout",
     "output_type": "stream",
     "text": [
      "./Search\\C.txt_predict.csv\n"
     ]
    },
    {
     "name": "stderr",
     "output_type": "stream",
     "text": [
      "                                                                                                                                                                                                                                                                         \r"
     ]
    },
    {
     "name": "stdout",
     "output_type": "stream",
     "text": [
      "./Search\\K.txt_standard.csv\n"
     ]
    },
    {
     "name": "stderr",
     "output_type": "stream",
     "text": [
      "                                                                                                                                                                                                                                                                         \r"
     ]
    },
    {
     "name": "stdout",
     "output_type": "stream",
     "text": [
      "./Search\\K.txt_predict.csv\n"
     ]
    },
    {
     "name": "stderr",
     "output_type": "stream",
     "text": [
      "                                                                                                                                                                                                                                                                         \r"
     ]
    },
    {
     "name": "stdout",
     "output_type": "stream",
     "text": [
      "./Search\\G.txt_standard.csv\n"
     ]
    },
    {
     "name": "stderr",
     "output_type": "stream",
     "text": [
      "                                                                                                                                                                                                                                                                         \r"
     ]
    },
    {
     "name": "stdout",
     "output_type": "stream",
     "text": [
      "./Search\\G.txt_predict.csv\n"
     ]
    },
    {
     "name": "stderr",
     "output_type": "stream",
     "text": [
      "                                                                                                                                                                                                                                                                         \r"
     ]
    },
    {
     "name": "stdout",
     "output_type": "stream",
     "text": [
      "./Search\\H.txt_standard.csv\n"
     ]
    },
    {
     "name": "stderr",
     "output_type": "stream",
     "text": [
      "                                                                                                                                                                                                                                                                         \r"
     ]
    },
    {
     "name": "stdout",
     "output_type": "stream",
     "text": [
      "./Search\\H.txt_predict.csv\n"
     ]
    },
    {
     "name": "stderr",
     "output_type": "stream",
     "text": [
      "                                                                                                                                                                                                                                                                         \r"
     ]
    },
    {
     "name": "stdout",
     "output_type": "stream",
     "text": [
      "./Search\\L.txt_standard.csv\n"
     ]
    },
    {
     "name": "stderr",
     "output_type": "stream",
     "text": [
      "                                                                                                                                                                                                                                                                         \r"
     ]
    },
    {
     "name": "stdout",
     "output_type": "stream",
     "text": [
      "./Search\\L.txt_predict.csv\n"
     ]
    }
   ],
   "source": [
    "# Search database for all samples\n",
    "nameDict = {'B': ['brain', 1], 'F': ['feces', 1], 'C': ['cardiac', 2], 'K': ['kidney', 3], 'G': ['gut', 2],\n",
    "                'H': ['hepar', 3], 'L': ['lungs', 2]} # number is after RT calibration database index;Feces = intestinal content\n",
    "# nameDict = {'K': ['kidney', 3]}\n",
    "txtMapFolder  = f\"./Search/kidney\\\\MAP\"\n",
    "mgfExportFolder = f\"./Search/kidney\\\\DAExport\"\n",
    "for key in nameDict.keys():\n",
    "    txtMapFolder = f\"./Search/tissue/{nameDict[key][0]}/MAP\"\n",
    "    mgfExportFolder = f\"./Search/tissue/{nameDict[key][0]}/DAExport\"\n",
    "    alignmentFolder = f'./Search/tissue/{nameDict[key][0]}/alignment'\n",
    "    searchData = searchMSDIALAlignExportWithMGF(msdialFilePath=txtMapFolder,\n",
    "                                                alignmentPath=f'./Search/tissue/{nameDict[key][0]}/alignment/{key}.txt',\n",
    "                                                sterolDatabase=f'./Search/database/STDatabaseQC{nameDict[key][1]}.csv',\n",
    "                                                mgfExportPath=mgfExportFolder,\n",
    "                                                msTolerance=25e-6, msmsTolerance=25e-6,\n",
    "                                                piecewiseRTAscendingRange=[(0, 4), (0, 0)],\n",
    "                                                piecewiseCCSAscendingRange=[(0, 1.5), (0, 0)],\n",
    "                                                )\n",
    "    searchData.match_sterol(searchWhich=searchData.standardSTDatabasePd, weight=[0, 0.5, 0.5], tolerance=0)\n",
    "    searchData.saveResult(saveFolder='./Search',appendStr='standard')\n",
    "    del searchData\n",
    "    #\n",
    "    searchData = searchMSDIALAlignExportWithMGF(msdialFilePath=txtMapFolder,\n",
    "                                                alignmentPath=f'./Search/tissue/{nameDict[key][0]}\\\\alignment/{key}.txt',\n",
    "                                                sterolDatabase=f'./Search/database/STDatabaseQC{nameDict[key][1]}.csv',\n",
    "                                                mgfExportPath=mgfExportFolder,\n",
    "                                                msTolerance=25e-6, msmsTolerance=25e-6,\n",
    "                                                piecewiseRTAscendingRange=[(0, 0), (84*0.5,84*2)],\n",
    "                                                piecewiseCCSAscendingRange=[(1.44*0.5, 1.44*2), (0, 0)],\n",
    "                                                )\n",
    "    searchData.match_sterol(searchWhich=searchData.predSTDatabasePd, weight=[0.4, 0.2, 0.4])\n",
    "    searchData.saveResult(saveFolder='./Search',appendStr='predict')\n",
    "    searchData.merge(standardResult=f\"./Search/{key}.txt_standard.csv\"\n",
    "                    , predictResult=f\"./Search/{key}.txt_predict.csv\",\n",
    "                    saveReuslt=f'./Search/{key}-result.csv') # Merge standard and predicted sterol identification results, retaining the top 3 sterols."
   ]
  },
  {
   "cell_type": "code",
   "execution_count": null,
   "id": "6f3526c5-9e84-41f4-b130-ffa96a100bf5",
   "metadata": {},
   "outputs": [],
   "source": []
  }
 ],
 "metadata": {
  "kernelspec": {
   "display_name": "Python 3 (ipykernel)",
   "language": "python",
   "name": "python3"
  },
  "language_info": {
   "codemirror_mode": {
    "name": "ipython",
    "version": 3
   },
   "file_extension": ".py",
   "mimetype": "text/x-python",
   "name": "python",
   "nbconvert_exporter": "python",
   "pygments_lexer": "ipython3",
   "version": "3.8.18"
  }
 },
 "nbformat": 4,
 "nbformat_minor": 5
}
