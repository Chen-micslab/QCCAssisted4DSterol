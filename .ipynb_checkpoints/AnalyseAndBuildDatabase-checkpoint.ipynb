{
 "cells": [
  {
   "cell_type": "code",
   "execution_count": 1,
   "id": "7fd8c6a4-3b24-49f8-acd9-d58b7aac1797",
   "metadata": {},
   "outputs": [],
   "source": [
    "from STAnalyzer import *\n",
    "myAnalyzer = STAnalyzer() # create a STAnalyzer"
   ]
  },
  {
   "cell_type": "code",
   "execution_count": 2,
   "id": "adac2394-184e-4c2f-8c8a-847dd2ac60d3",
   "metadata": {},
   "outputs": [
    {
     "name": "stderr",
     "output_type": "stream",
     "text": [
      "Now analyse LMST05050068: 100%|██████████████████████████████████████████████████████████████████████████████████████████████████████████████████████████████████████████████████████████████████████████████████████████████████████| 2490/2490 [00:48<00:00, 51.54it/s]\n"
     ]
    }
   ],
   "source": [
    "# # --------------------------------- Analyse all ST Mol with double bond and save result as csv ----------------------------------\n",
    "myAnalyzer.readCSV('./database/2_STWithDoubleBond.csv')\n",
    "myAnalyzer.analyseAllSTMol(savepath='./database/3_AllSTAnalyseResult.csv') # Drop mass > 900 "
   ]
  },
  {
   "cell_type": "code",
   "execution_count": 5,
   "id": "2a995be1-ef1f-4147-bb84-733583ea5353",
   "metadata": {},
   "outputs": [],
   "source": [
    "# # --------------------------------- -Chemical derivatization of single ST molecule and plot products ----------------------------------\n",
    "# You need start with analyseSingleSTMol function \n",
    "myAnalyzer.analyseSingleSTMol('[C@]12(CC=C3C[C@@H](OC(CCCCC/C=C\\CCCCCCCC)=O)CC[C@]3(C)[C@@]1([H])CC[C@]1(C)[C@@]([H])([C@@](C)([H])CCCC(C)C)CC[C@@]21[H])[H]') #(CE16:1 7z)\n",
    "# Find all double bond and derivatize them.\n",
    "myAnalyzer.STmol.derivativeMolAllPossible(derivativeNumber=(1, 1), chargeNumber=(1, 1), derivativeType=1, useChiral=False)\n",
    "#plot derivatived result\n",
    "myAnalyzer.plotEveryDerivativeMol()"
   ]
  },
  {
   "cell_type": "code",
   "execution_count": 6,
   "id": "abb94c8d-c676-496b-86c7-7eac55a4992c",
   "metadata": {
    "scrolled": true
   },
   "outputs": [
    {
     "name": "stdout",
     "output_type": "stream",
     "text": [
      "CCCCCCCCC1C(CCCCCC(=O)O[C@H]2CC[C@@]3(C)C(=CC[C@H]4[C@@H]5CC[C@H]([C@H](C)CCCC(C)C)[C@@]5(C)CC[C@@H]43)C2)[NH+]1C\n",
      "CC(C)CCC[C@@H](C)[C@H]1CC[C@H]2[C@@H]3CC=C4C[CH+]CC[C@]4(C)[C@H]3CC[C@]12C.CCCCCCCCC1C(CCCCCC(=O)O)[NH+]1C\n",
      "C=CCCCCC(=O)O[C@H]1CC[C@@]2(C)C(=CC[C@H]3[C@@H]4CC[C@H]([C@H](C)CCCC(C)C)[C@@]4(C)CC[C@@H]32)C1.CCCCCCCCC=[NH+]C\n",
      "C=CCCCCC(=O)O.CC(C)CCC[C@@H](C)[C@H]1CC[C@H]2[C@@H]3CC=C4C[CH+]CC[C@]4(C)[C@H]3CC[C@]12C.CCCCCCCCC=[NH+]C\n",
      "C=CCCCCCCC.C[NH+]=CCCCCCC(=O)O[C@H]1CC[C@@]2(C)C(=CC[C@H]3[C@@H]4CC[C@H]([C@H](C)CCCC(C)C)[C@@]4(C)CC[C@@H]32)C1\n",
      "C=CCCCCCCC.CC(C)CCC[C@@H](C)[C@H]1CC[C@H]2[C@@H]3CC=C4C[CH+]CC[C@]4(C)[C@H]3CC[C@]12C.C[NH+]=CCCCCCC(=O)O\n",
      "CCCCCCCC/C=C\\CCCCCC(=O)O[C@H]1CC[C@]2(C)[C@H]3CC[C@]4(C)[C@@H]([C@H](C)CCCC(C)C)CC[C@H]4[C@@H]3CC3[NH+](C)C32C1\n",
      "CC(C)CCC[C@@H](C)[C@H]1CC[C@H]2[C@@H]3CC4[NH+](C)C45C=CCC[C@]5(C)[C@H]3CC[C@]12C.CCCCCCCC/C=C\\CCCCCC(=O)O\n",
      "CCCCCCCC/C=C\\CCCCCC(=O)O[C@H]1CC[C@@]2(C)C(=[C+]C[C@H]3[C@@H]4CC[C@H]([C@H](C)CCCC(C)C)[C@@]4(C)CC[C@@H]32)C1.C[NH3+]\n",
      "CC(C)CCC[C@@H](C)[C@H]1CC[C@H]2[C@@H]3C[C+]=C4C=CCC[C@]4(C)[C@H]3CC[C@]12C.CCCCCCCC/C=C\\CCCCCC(=O)O.C[NH3+]\n"
     ]
    }
   ],
   "source": [
    "#Break down the results of the derivatization and plot them. \n",
    "#In this project, we only examine the results of one derivative fragment function. \n",
    "#Some products with ring reaction sites undergo complex electron rearrangements due to fragmentation, which may lead to inaccurate plot results. \n",
    "#Each fragmentation result includes an ion that is the same as the precursor ion, indicating unsuccessful fragmentation.\n",
    "#The fragment ions obtained may be duplicated\n",
    "myAnalyzer.plotEveryBreakMol()"
   ]
  },
  {
   "cell_type": "code",
   "execution_count": 6,
   "id": "4a519355-6544-4ea1-9731-cd47f8adf609",
   "metadata": {},
   "outputs": [
    {
     "name": "stdout",
     "output_type": "stream",
     "text": [
      "Precusor Mass 734.608149\n",
      "Ring Diagnostic ions {}\n",
      "Chain Diagnostic ions [114.12772, 282.16997, 366.26387, 369.35156, 650.51425]\n",
      "Mol Diagnostic ions [114.12772, 282.16997, 366.26387, 369.35156, 650.51425]\n",
      "Precusor Mass 456.419967\n",
      "Ring Diagnostic ions {}\n",
      "Chain Diagnostic ions [414.37302, 396.36246]\n",
      "Mol Diagnostic ions [414.37302, 396.36246]\n"
     ]
    }
   ],
   "source": [
    "# # ----------------------------- Get Derivative mol from SMILES and fragment ions-----------------------\n",
    "# # You also can input one derivatived reaction result SMILES and get MS/MS diagnostic ions mass.\n",
    "myAnalyzer.break_NME_mol_from_SMILES('CCCCCC1C(/C=C/C(C/C=C\\C/C=C\\CCCC(=O)O[C@H]2CC[C@@]3(C)C(=CC[C@H]4[C@@H]5CC[C@H]([C@H](C)CCCC(C)C)[C@@]5(C)CC[C@@H]43)C2)OO)[NH+]1C')\n",
    "myAnalyzer.plotEveryDerivativeMol()\n",
    "print('Precusor Mass',myAnalyzer.STmol.noBreakMolMass)\n",
    "print('Ring Diagnostic ions',myAnalyzer.STmol.diagIonsInRing) # Delta da 31 is lost derivatived ring mass. Delta da 49 is lost H20 and derivatived ring mass. \n",
    "print('Chain Diagnostic ions',myAnalyzer.STmol.diagIonsInChain)\n",
    "print('Mol Diagnostic ions', myAnalyzer.STmol.characteristicMassList)\n",
    "myAnalyzer.break_NME_mol_from_SMILES('CC1(C([NH+]1C)CC[C@@H](C)[C@H]2CC[C@@]3(C)C4=C(CC[C@]23C)[C@@]5(C)CC[C@H](O)C([C@@H]5CC4)(C)C)C')\n",
    "myAnalyzer.plotEveryDerivativeMol()\n",
    "print('Precusor Mass',myAnalyzer.STmol.noBreakMolMass)\n",
    "print('Ring Diagnostic ions',myAnalyzer.STmol.diagIonsInRing) # Chain's two fragmentation modes and also consider the lost water result of these molecules.\n",
    "print('Chain Diagnostic ions',myAnalyzer.STmol.diagIonsInChain)\n",
    "print('Mol Diagnostic ions', myAnalyzer.STmol.characteristicMassList)"
   ]
  },
  {
   "cell_type": "code",
   "execution_count": 7,
   "id": "158c48b7-6c6e-4cab-ac1c-a99564c25c0c",
   "metadata": {},
   "outputs": [
    {
     "name": "stderr",
     "output_type": "stream",
     "text": [
      "Now derivative LMST05050068: 100%|███████████████████████████████████████████████████████████████████████████████████████████████████████████████████████████████████████████████████████████████████████████████████████████████████| 2440/2440 [00:59<00:00, 40.72it/s]\n"
     ]
    }
   ],
   "source": [
    "# # ------------------- Derivative N-Me to all ST Mol and save csv for generate 3D mol file --------------------\n",
    "myAnalyzer.readCSV('./database/3_AllSTAnalyseResult.csv')\n",
    "myAnalyzer.getAllDerivativeSmiles(savePath='./database/4_ST_NMe_For_CalCCS.csv',derivativeNumber=(1, 1),\n",
    "                                  chargeNumber=(1, 1),derivativeType=1,chiral=[0,1],\n",
    "                                  protonationChiral=[0,1])  # one derivative and add one charge. Consider chiral and protonation chiral"
   ]
  },
  {
   "cell_type": "code",
   "execution_count": 8,
   "id": "be015ba3-2f96-4ed2-b810-702e80d0f61e",
   "metadata": {},
   "outputs": [
    {
     "name": "stderr",
     "output_type": "stream",
     "text": [
      "Now derivative LMST05050068: 100%|███████████████████████████████████████████████████████████████████████████████████████████████████████████████████████████████████████████████████████████████████████████████████████████████████| 2440/2440 [00:54<00:00, 44.60it/s]\n"
     ]
    }
   ],
   "source": [
    "# # ------------------- Derivative N-H to all ST Mol and save csv for generate 3D mol file --------------------\n",
    "myAnalyzer.readCSV('./database/3_AllSTAnalyseResult.csv')\n",
    "myAnalyzer.getAllDerivativeSmiles(savePath='./database/4_ST_NH_For_CalCCS.csv',derivativeNumber=(1, 1),\n",
    "                                  chargeNumber=(1, 1),derivativeType=2,chiral=[0,1],\n",
    "                                  protonationChiral=None)  # one derivative and add one charge. Consider chiral "
   ]
  },
  {
   "cell_type": "code",
   "execution_count": 9,
   "id": "5f6aa1fb-8b4b-4a02-bffa-ad8173d7810d",
   "metadata": {},
   "outputs": [
    {
     "name": "stderr",
     "output_type": "stream",
     "text": [
      "Now derivative LMST05050068: 100%|███████████████████████████████████████████████████████████████████████████████████████████████████████████████████████████████████████████████████████████████████████████████████████████████████| 2440/2440 [00:52<00:00, 46.84it/s]\n"
     ]
    }
   ],
   "source": [
    "# ------------------- Derivative all ST Mol and save csv for GNN RT prediction------------------\n",
    "myAnalyzer.readCSV('./database/3_AllSTAnalyseResult.csv')\n",
    "myAnalyzer.getAllDerivativeSmiles(savePath='./database/4_ST_NMe_For_CalRT.csv', derivativeNumber=(1, 1),\n",
    "                                  useChiral=False, chargeNumber=(0, 0), derivativeType=1) # one derivative and add no charge. The METLIN-RT database does not contain molecular charge information。"
   ]
  },
  {
   "cell_type": "code",
   "execution_count": 10,
   "id": "64394b0d-5c9a-44d7-a8f3-cbaf1151aa7c",
   "metadata": {
    "scrolled": true
   },
   "outputs": [
    {
     "name": "stderr",
     "output_type": "stream",
     "text": [
      "Now derivative LMST05050068: 100%|███████████████████████████████████████████████████████████████████████████████████████████████████████████████████████████████████████████████████████████████████████████████████████████████████| 2440/2440 [00:54<00:00, 44.93it/s]\n"
     ]
    }
   ],
   "source": [
    "# ------------------- Derivative all ST Mol and save csv for calculate fingerprint------------------\n",
    "myAnalyzer.readCSV('./database/3_AllSTAnalyseResult.csv')\n",
    "myAnalyzer.getAllDerivativeSmiles(savePath='./database/4_ST_NMe_For_CalFP.csv', derivativeNumber=(1, 1),\n",
    "                                  useChiral=False, chargeNumber=(0, 1), derivativeType=1) # one derivative and add no charge. The METLIN-RT database does not contain molecular charge information。"
   ]
  },
  {
   "cell_type": "code",
   "execution_count": 11,
   "id": "86e3aad3-b626-4639-bdf5-065f498d32dc",
   "metadata": {
    "scrolled": true
   },
   "outputs": [
    {
     "name": "stderr",
     "output_type": "stream",
     "text": [
      "Now Get LMST01010361_15-16_0_0_ring's fingerPrint:   6%|██████████▎                                                                                                                                                                   | 296/5002 [01:42<32:59,  2.38it/s]D:\\ProgramData\\miniconda3\\envs\\py3.8\\lib\\site-packages\\numpy\\core\\fromnumeric.py:86: RuntimeWarning: overflow encountered in reduce\n",
      "  return ufunc.reduce(obj, axis, dtype, out, **passkwargs)\n",
      "Now Get LMST05050068_15-16_0_0_ring's fingerPrint: 100%|█████████████████████████████████████████████████████████████████████████████████████████████████████████████████████████████████████████████████████████████████████████████| 5002/5002 [26:20<00:00,  3.16it/s]\n"
     ]
    }
   ],
   "source": [
    "# # ------------------------------------  Calculate fingerprint ---------------------------------------\n",
    "myAnalyzer.generateAllDerivationMolFingerPrint(derivativeCSV='./database/4_ST_NMe_For_CalFP.csv',\n",
    "                                               savePath='./database/5_RDkitFingerPrint.csv')"
   ]
  },
  {
   "cell_type": "code",
   "execution_count": 13,
   "id": "c9eb5719-ad6e-4380-9ff4-f74efa96476f",
   "metadata": {},
   "outputs": [],
   "source": [
    "# #---------------------------------- Analyse FingerPrint  ------------------------------------------\n",
    "# # Drop duplicates and bad points.\n",
    "myAnalyzer.dropFingerPrintDuplicates(rdkitFpPath='./database/5_RDkitFingerPrint.csv',\n",
    "                                savePath='./database/6_ALLFingerPrintDropDuplicates.csv')"
   ]
  },
  {
   "cell_type": "code",
   "execution_count": 14,
   "id": "61374633-d285-4f55-a390-f56cf59e0de5",
   "metadata": {},
   "outputs": [
    {
     "name": "stderr",
     "output_type": "stream",
     "text": [
      "Now fragment LMST05050068_15-16_0_0_ring: 100%|██████████████████████████████████████████████████████████████████████████████████████████████████████████████████████████████████████████████████████████████████████████████████████| 5002/5002 [02:18<00:00, 36.14it/s]\n"
     ]
    }
   ],
   "source": [
    "# #---------------------------------- Get all MZ and MSMS ------------------------------------\n",
    "myAnalyzer.getAllDerivativeChainBreakMass(filePath='./database/4_ST_NMe_For_CalFP.csv',\n",
    "                                          savePath='./database/MZandMS2.csv',OHMaxBreak=2)"
   ]
  },
  {
   "cell_type": "code",
   "execution_count": null,
   "id": "e83caec5-d825-404d-b817-845c252a97d0",
   "metadata": {},
   "outputs": [],
   "source": [
    "# #----------------------------------statistics------------------------------------"
   ]
  }
 ],
 "metadata": {
  "kernelspec": {
   "display_name": "Python 3 (ipykernel)",
   "language": "python",
   "name": "python3"
  },
  "language_info": {
   "codemirror_mode": {
    "name": "ipython",
    "version": 3
   },
   "file_extension": ".py",
   "mimetype": "text/x-python",
   "name": "python",
   "nbconvert_exporter": "python",
   "pygments_lexer": "ipython3",
   "version": "3.8.18"
  }
 },
 "nbformat": 4,
 "nbformat_minor": 5
}
